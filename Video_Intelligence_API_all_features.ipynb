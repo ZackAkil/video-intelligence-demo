{
  "nbformat": 4,
  "nbformat_minor": 0,
  "metadata": {
    "colab": {
      "name": "Video Intelligence API all features.ipynb",
      "version": "0.3.2",
      "provenance": [],
      "include_colab_link": true
    },
    "kernelspec": {
      "name": "python3",
      "display_name": "Python 3"
    }
  },
  "cells": [
    {
      "cell_type": "markdown",
      "metadata": {
        "id": "view-in-github",
        "colab_type": "text"
      },
      "source": [
        "<a href=\"https://colab.research.google.com/github/ZackAkil/video-intelligence-demo/blob/master/Video_Intelligence_API_all_features.ipynb\" target=\"_parent\"><img src=\"https://colab.research.google.com/assets/colab-badge.svg\" alt=\"Open In Colab\"/></a>"
      ]
    },
    {
      "cell_type": "markdown",
      "metadata": {
        "id": "x1EqONhWDXWj",
        "colab_type": "text"
      },
      "source": [
        "# Get all Video Intelligence API features"
      ]
    },
    {
      "cell_type": "code",
      "metadata": {
        "id": "B7NNL0s97XUF",
        "colab_type": "code",
        "colab": {}
      },
      "source": [
        "!pip -q install google-cloud-videointelligence"
      ],
      "execution_count": 0,
      "outputs": []
    },
    {
      "cell_type": "code",
      "metadata": {
        "id": "H4q7fMlG667w",
        "colab_type": "code",
        "colab": {}
      },
      "source": [
        "from google.cloud import videointelligence"
      ],
      "execution_count": 0,
      "outputs": []
    },
    {
      "cell_type": "code",
      "metadata": {
        "id": "NV7qLyBp7lFg",
        "colab_type": "code",
        "colab": {}
      },
      "source": [
        "features = [\n",
        "videointelligence.enums.Feature.EXPLICIT_CONTENT_DETECTION,\n",
        "videointelligence.enums.Feature.LABEL_DETECTION,\n",
        "videointelligence.enums.Feature.OBJECT_TRACKING,\n",
        "videointelligence.enums.Feature.SHOT_CHANGE_DETECTION,\n",
        "videointelligence.enums.Feature.SPEECH_TRANSCRIPTION,\n",
        "videointelligence.enums.Feature.TEXT_DETECTION\n",
        "]\n",
        "\n",
        "# extra settings for transcription \n",
        "\n",
        "config = videointelligence.types.SpeechTranscriptionConfig(\n",
        "    language_code='en-US',\n",
        "    enable_automatic_punctuation=True,\n",
        "\t  filter_profanity=True\n",
        ")\n",
        "\n",
        "video_context = videointelligence.types.VideoContext(speech_transcription_config=config)"
      ],
      "execution_count": 0,
      "outputs": []
    },
    {
      "cell_type": "markdown",
      "metadata": {
        "id": "2eMtTMgr-tW0",
        "colab_type": "text"
      },
      "source": [
        "Generate a Service account key file with the following instructions: https://cloud.google.com/video-intelligence/docs/common/auth\n",
        "\n",
        "Use the file viewer on the left to upload the service account key file to the Colab."
      ]
    },
    {
      "cell_type": "code",
      "metadata": {
        "id": "7xkpQgjI7TBB",
        "colab_type": "code",
        "colab": {}
      },
      "source": [
        "video_client = videointelligence.VideoIntelligenceServiceClient.from_service_account_file('YOUR_SERVICE_ACCOUNT_FILE.json')"
      ],
      "execution_count": 0,
      "outputs": []
    },
    {
      "cell_type": "markdown",
      "metadata": {
        "id": "GuqR_lxUFPOs",
        "colab_type": "text"
      },
      "source": [
        ""
      ]
    },
    {
      "cell_type": "markdown",
      "metadata": {
        "id": "7mVhgWc5-23O",
        "colab_type": "text"
      },
      "source": [
        "Get video file name from video file on Google Cloud Stroage, **this should be in the same project that you created the service account key file in.**"
      ]
    },
    {
      "cell_type": "code",
      "metadata": {
        "id": "AWE6MoHg9ZRI",
        "colab_type": "code",
        "colab": {}
      },
      "source": [
        "file_name = 'gs://YOUR VIDEO ON GCS.mp4'"
      ],
      "execution_count": 0,
      "outputs": []
    },
    {
      "cell_type": "markdown",
      "metadata": {
        "id": "SQo6iNhODpx3",
        "colab_type": "text"
      },
      "source": [
        "Run Video Intelligence API"
      ]
    },
    {
      "cell_type": "code",
      "metadata": {
        "id": "vbvUKmgT7sOy",
        "colab_type": "code",
        "colab": {}
      },
      "source": [
        "annotations = video_client.annotate_video(file_name, \n",
        "                                          features=features,\n",
        "                                          video_context=video_context)"
      ],
      "execution_count": 0,
      "outputs": []
    },
    {
      "cell_type": "markdown",
      "metadata": {
        "id": "lZcMRxiXCzBT",
        "colab_type": "text"
      },
      "source": [
        "The annotation can take a while, the next cell will complete after the API returns the result."
      ]
    },
    {
      "cell_type": "code",
      "metadata": {
        "id": "VEL8JaJDCYhg",
        "colab_type": "code",
        "colab": {}
      },
      "source": [
        "results = annotations.result()"
      ],
      "execution_count": 0,
      "outputs": []
    },
    {
      "cell_type": "markdown",
      "metadata": {
        "id": "e-4RJ4SvDJo-",
        "colab_type": "text"
      },
      "source": [
        "Save the full output to a JSON file:"
      ]
    },
    {
      "cell_type": "code",
      "metadata": {
        "id": "CEERMVQF-MZn",
        "colab_type": "code",
        "colab": {}
      },
      "source": [
        "import json\n",
        "from google.protobuf.json_format import MessageToJson\n",
        "\n",
        "with open('result.json', 'w') as fp:\n",
        "    fp.write(MessageToJson(results) )"
      ],
      "execution_count": 0,
      "outputs": []
    },
    {
      "cell_type": "markdown",
      "metadata": {
        "id": "VtxE1lXMCeF_",
        "colab_type": "text"
      },
      "source": [
        "You can inspect or download the full JSON file from the file browser on the left hand side.\n",
        "\n",
        "I recommend pasteing file contents into a JSON viewer like http://jsonviewer.stack.hu/"
      ]
    }
  ]
}